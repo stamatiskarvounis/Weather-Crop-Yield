{
 "cells": [
  {
   "cell_type": "markdown",
   "id": "28f8e399",
   "metadata": {},
   "source": [
    "### All the different Datasets"
   ]
  },
  {
   "cell_type": "code",
   "execution_count": 1,
   "id": "625fb00f",
   "metadata": {
    "scrolled": true
   },
   "outputs": [
    {
     "name": "stdout",
     "output_type": "stream",
     "text": [
      "All the different datasets\n"
     ]
    }
   ],
   "source": [
    "#All the different Datasets\n",
    "\n",
    "import requests\n",
    "import csv\n",
    "\n",
    "# token\n",
    "token = 'zSeGtEWLAoSForkBhSGKwXVMFpErgCFb'\n",
    "\n",
    "# Set the API endpoint URL\n",
    "url = 'https://www.ncei.noaa.gov/cdo-web/api/v2/datasets'\n",
    "\n",
    "params = {\n",
    "    'format': 'json',  # Return the data in JSON format\n",
    "}\n",
    "\n",
    "# Set the authorization header \n",
    "headers = {'token': token}\n",
    "\n",
    "# Send the GET request to the API and store the response\n",
    "response = requests.get(url, params=params, headers=headers)\n",
    "\n",
    "if response.status_code == 200:\n",
    "    # Parse the response as JSON\n",
    "    data = response.json()\n",
    "            \n",
    "    print('All the different datasets')\n",
    "else:\n",
    "    print(f'Request failed with status code {response.status_code}')\n",
    "    print(response.text)\n",
    "    "
   ]
  },
  {
   "cell_type": "code",
   "execution_count": 2,
   "id": "6fc2fb08",
   "metadata": {},
   "outputs": [
    {
     "name": "stdout",
     "output_type": "stream",
     "text": [
      "{'metadata': {'resultset': {'offset': 1, 'count': 11, 'limit': 25}}, 'results': [{'uid': 'gov.noaa.ncdc:C00861', 'mindate': '1763-01-01', 'maxdate': '2023-04-13', 'name': 'Daily Summaries', 'datacoverage': 1, 'id': 'GHCND'}, {'uid': 'gov.noaa.ncdc:C00946', 'mindate': '1763-01-01', 'maxdate': '2023-03-01', 'name': 'Global Summary of the Month', 'datacoverage': 1, 'id': 'GSOM'}, {'uid': 'gov.noaa.ncdc:C00947', 'mindate': '1763-01-01', 'maxdate': '2023-01-01', 'name': 'Global Summary of the Year', 'datacoverage': 1, 'id': 'GSOY'}, {'uid': 'gov.noaa.ncdc:C00345', 'mindate': '1991-06-05', 'maxdate': '2023-04-13', 'name': 'Weather Radar (Level II)', 'datacoverage': 0.95, 'id': 'NEXRAD2'}, {'uid': 'gov.noaa.ncdc:C00708', 'mindate': '1994-05-20', 'maxdate': '2023-04-14', 'name': 'Weather Radar (Level III)', 'datacoverage': 0.95, 'id': 'NEXRAD3'}, {'uid': 'gov.noaa.ncdc:C00821', 'mindate': '2010-01-01', 'maxdate': '2010-01-01', 'name': 'Normals Annual/Seasonal', 'datacoverage': 1, 'id': 'NORMAL_ANN'}, {'uid': 'gov.noaa.ncdc:C00823', 'mindate': '2010-01-01', 'maxdate': '2010-12-31', 'name': 'Normals Daily', 'datacoverage': 1, 'id': 'NORMAL_DLY'}, {'uid': 'gov.noaa.ncdc:C00824', 'mindate': '2010-01-01', 'maxdate': '2010-12-31', 'name': 'Normals Hourly', 'datacoverage': 1, 'id': 'NORMAL_HLY'}, {'uid': 'gov.noaa.ncdc:C00822', 'mindate': '2010-01-01', 'maxdate': '2010-12-01', 'name': 'Normals Monthly', 'datacoverage': 1, 'id': 'NORMAL_MLY'}, {'uid': 'gov.noaa.ncdc:C00505', 'mindate': '1970-05-12', 'maxdate': '2014-01-01', 'name': 'Precipitation 15 Minute', 'datacoverage': 0.25, 'id': 'PRECIP_15'}, {'uid': 'gov.noaa.ncdc:C00313', 'mindate': '1900-01-01', 'maxdate': '2014-01-01', 'name': 'Precipitation Hourly', 'datacoverage': 1, 'id': 'PRECIP_HLY'}]}\n"
     ]
    }
   ],
   "source": [
    "print(response.json())\n"
   ]
  },
  {
   "cell_type": "markdown",
   "id": "b8debf2d",
   "metadata": {},
   "source": [
    "### All the different DataTypes"
   ]
  },
  {
   "cell_type": "code",
   "execution_count": 3,
   "id": "28fe3200",
   "metadata": {},
   "outputs": [
    {
     "name": "stdout",
     "output_type": "stream",
     "text": [
      "All the different datatypes\n"
     ]
    }
   ],
   "source": [
    "#All the different DataTypes\n",
    "\n",
    "import requests\n",
    "import csv\n",
    "\n",
    "# token\n",
    "token = 'zSeGtEWLAoSForkBhSGKwXVMFpErgCFb'\n",
    "\n",
    "# API endpoint URL\n",
    "url = 'https://www.ncei.noaa.gov/cdo-web/api/v2/locationcategories'\n",
    "params = {\n",
    "    'format': 'json',  # Return the data in JSON format\n",
    "}\n",
    "headers = {'token': token}\n",
    "\n",
    "# Send GET request to the API and store the response\n",
    "response = requests.get(url, params=params, headers=headers)\n",
    "\n",
    "\n",
    "if response.status_code == 200:\n",
    "    # Parse the response as JSON\n",
    "    data = response.json()\n",
    "            \n",
    "    print('All the different datatypes')\n",
    "else:\n",
    "    print(f'Request failed with status code {response.status_code}')\n",
    "    print(response.text)"
   ]
  },
  {
   "cell_type": "code",
   "execution_count": 4,
   "id": "9fe389c3",
   "metadata": {},
   "outputs": [
    {
     "name": "stdout",
     "output_type": "stream",
     "text": [
      "{'metadata': {'resultset': {'offset': 1, 'count': 12, 'limit': 25}}, 'results': [{'name': 'City', 'id': 'CITY'}, {'name': 'Climate Division', 'id': 'CLIM_DIV'}, {'name': 'Climate Region', 'id': 'CLIM_REG'}, {'name': 'Country', 'id': 'CNTRY'}, {'name': 'County', 'id': 'CNTY'}, {'name': 'Hydrologic Accounting Unit', 'id': 'HYD_ACC'}, {'name': 'Hydrologic Cataloging Unit', 'id': 'HYD_CAT'}, {'name': 'Hydrologic Region', 'id': 'HYD_REG'}, {'name': 'Hydrologic Subregion', 'id': 'HYD_SUB'}, {'name': 'State', 'id': 'ST'}, {'name': 'US Territory', 'id': 'US_TERR'}, {'name': 'Zip Code', 'id': 'ZIP'}]}\n"
     ]
    }
   ],
   "source": [
    "print(response.json())\n"
   ]
  },
  {
   "cell_type": "markdown",
   "id": "2d2fb05d",
   "metadata": {},
   "source": [
    "Will use the US territory as I need to research the US temperatures"
   ]
  },
  {
   "cell_type": "code",
   "execution_count": 6,
   "id": "d4a32def",
   "metadata": {},
   "outputs": [
    {
     "name": "stdout",
     "output_type": "stream",
     "text": [
      "All good\n",
      "Number of documents in collection: 200\n"
     ]
    }
   ],
   "source": [
    "from pymongo import MongoClient\n",
    "import requests\n",
    "import csv\n",
    "\n",
    "# Set up a connection to the MongoDB server\n",
    "client = MongoClient('mongodb://localhost:27000/')\n",
    "\n",
    "# Choose the database and collection\n",
    "db = client['mydatabase']\n",
    "collection = db['mycollection']\n",
    "\n",
    "# token\n",
    "token = 'zSeGtEWLAoSForkBhSGKwXVMFpErgCFb'\n",
    "\n",
    "# Set the API endpoint URL\n",
    "url = 'https://www.ncei.noaa.gov/cdo-web/api/v2/data?datasetid=GHCND'\n",
    "\n",
    "# Set the request parameters, such as location, date range, and data type\n",
    "params = {\n",
    "    'startdate': '2003-01-01',\n",
    "    'enddate': '2022-01-31',\n",
    "    'dataTypes': 'PRCP,TMAX,TMIN,US_TERR',  # Precipitation, maximum temperature, and minimum temperature\n",
    "    'includeStationName': 'true',  \n",
    "    'format': 'json',  \n",
    "}\n",
    "\n",
    "# Set the authorization header with your token\n",
    "headers = {'token': token}\n",
    "\n",
    "# Send the GET request to the API and store the response\n",
    "response = requests.get(url, params=params, headers=headers)\n",
    "\n",
    "if response.status_code == 200:\n",
    "    # Parse the response as JSON\n",
    "    data = response.json()\n",
    "            \n",
    "    print('All good')\n",
    "else:\n",
    "    print(f'Request failed with status code {response.status_code}')\n",
    "    print(response.text)\n",
    "    \n",
    "# Insert the data into the database\n",
    "collection.insert_many(response.json()['results'])\n",
    "\n",
    "\n",
    "# Print the number of documents in the collection\n",
    "print(f\"Number of documents in collection: {collection.count_documents({})}\")"
   ]
  },
  {
   "cell_type": "code",
   "execution_count": 7,
   "id": "7d73b4cd",
   "metadata": {},
   "outputs": [
    {
     "name": "stdout",
     "output_type": "stream",
     "text": [
      "{'_id': 'GHCND:AGE00147719', 'avg_temp': 201.0}\n"
     ]
    }
   ],
   "source": [
    "from pymongo import MongoClient\n",
    "\n",
    "# Connect to the MongoDB server\n",
    "client = MongoClient('mongodb://localhost:27000/')\n",
    "\n",
    "# Select the database and collection\n",
    "db = client['mydatabase']\n",
    "collection = db['mycollection']\n",
    "\n",
    "# Define the aggregation pipeline\n",
    "pipeline = [\n",
    "    {\"$match\": {\"datatype\": \"TMAX\"}},\n",
    "    {\"$group\": {\"_id\": \"$station\", \"avg_temp\": {\"$avg\": \"$value\"}}},\n",
    "    {\"$sort\": {\"avg_temp\": -1}}\n",
    "]\n",
    "\n",
    "# Execute the pipeline and print the results\n",
    "result = collection.aggregate(pipeline)\n",
    "for doc in result:\n",
    "    print(doc)"
   ]
  },
  {
   "cell_type": "code",
   "execution_count": null,
   "id": "a24e579f",
   "metadata": {},
   "outputs": [],
   "source": []
  }
 ],
 "metadata": {
  "kernelspec": {
   "display_name": "Python 3",
   "language": "python",
   "name": "python3"
  },
  "language_info": {
   "codemirror_mode": {
    "name": "ipython",
    "version": 3
   },
   "file_extension": ".py",
   "mimetype": "text/x-python",
   "name": "python",
   "nbconvert_exporter": "python",
   "pygments_lexer": "ipython3",
   "version": "3.7.7"
  }
 },
 "nbformat": 4,
 "nbformat_minor": 5
}
